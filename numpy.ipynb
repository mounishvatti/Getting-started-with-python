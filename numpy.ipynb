{
 "cells": [
  {
   "cell_type": "markdown",
   "metadata": {},
   "source": [
    "NumPy is a Python library.\n",
    "\n",
    "NumPy is used for working with arrays.\n",
    "\n",
    "NumPy is short for \"Numerical Python\"."
   ]
  },
  {
   "cell_type": "code",
   "execution_count": null,
   "metadata": {},
   "outputs": [],
   "source": [
    "import numpy as np\n",
    "arr = np.array(42) # 0D array\n",
    "a=np.array([1,3,5,7]) # 1D array\n",
    "b=np.array([[2,6,8,10],[1,2,3,4]]) # 2D array (an array containing two 1D arrays)\n",
    "c=np.array([[[1,2,3,4],[2,4,6,8]],[[7,6,4,3],[2,4,9,6]]]) # 3D array (an array containing two 2D arrays)\n",
    "\n",
    "# to check the dimension of the array <array>.ndim\n",
    "print(arr.ndim) \n",
    "print(a.ndim)\n",
    "print(b.ndim)\n",
    "print(c.ndim)\n",
    "\n",
    "# Access the element on the first row, second column:\n",
    "print(\"2nd element on 1st row: \", b[0, 1])\n",
    "#Access the fourth element of the second array of the first array:\n",
    "print(\"4th element of the second array of the first array: \",c[0,1,3])\n",
    "\n",
    "# shape of the array <array>.shape\n",
    "print(arr.shape)\n",
    "print(a.shape)\n",
    "print(b.shape) \n",
    "print(c.shape)\n",
    "\n",
    "# Printing type of elements in array <array>.dtype\n",
    "print(arr.dtype)\n",
    "print(a.dtype)\n",
    "\n",
    "#Creating a nXm array with all zeros: array=np.zeros(n,m)\n",
    "i=np.zeros((3,3)) \n",
    "print(i)\n",
    "\n",
    "#Creating a nXm array with all ones: array=np.ones(n,m)\n",
    "j=np.ones((4,4))\n",
    "print(j)\n",
    "\n",
    "#Create a array of dimension nXm having constant value x: array=np.full((n,m),x)\n",
    "\n",
    "array=np.full((3,4),5) # n represents the number of rows in the matrix, m is the number of columns, x is the constant value.\n",
    "print(array)\n",
    "\n",
    "# Creating array from list with type float\n",
    "d=np.array([1,2,3,4],dtype=float)\n",
    "print(d)\n",
    "\n",
    "# Create an array with random values\n",
    "e=np.random.random((2,2,3))\n",
    "print(e)\n",
    "\n",
    "#Create a sequence of integers from n to m with step x: np.arange(n,m,x) \n",
    "f=np.arange(0,30,5)\n",
    "print(f)\n",
    "\n",
    "# Create a sequence of 10 values in range 0 to 5\n",
    "# linspace returns evenly spaced values within a given interval. num no. of elements are returned.\n",
    "g = np.linspace(0,5,10)\n",
    "print(g)\n",
    "\n",
    "# reshaping array <array>.reshape \n",
    "g = np.array([[1, 2, 3, 4],[5, 2, 4, 2],[1, 2, 0, 1]])\n",
    "newarr = g.reshape(2, 2, 3)\n",
    "print(newarr)\n",
    "\n",
    "# Flatten array\n",
    "# We can use flatten method to get a copy of array collapsed into one dimension.\n",
    "h = np.array([[1, 2, 3], [4, 5, 6]])\n",
    "flarr = h.flatten()"
   ]
  },
  {
   "cell_type": "code",
   "execution_count": null,
   "metadata": {},
   "outputs": [],
   "source": [
    "# Array Slicing\n",
    "# We pass slice instead of index like this: [start:end]. We can also define the step, like this: [start:end:step].\n",
    "# slicing 1D array \n",
    "arr = np.array([1,2,3,4,5,6,7])\n",
    "print(arr[1:5])\n",
    "print(arr[4:])\n",
    "print(arr[:4])\n",
    "print(arr[1:5:2])\n",
    "print(arr[::2])\n",
    "\n",
    "# slicing 2D array\n",
    "b=np.array([[2,6,8,10],[1,2,3,4]])\n",
    "print(b[1,1:3])\n",
    "print(b[0:2,2]) # From both elements, return index 2\n",
    "\n",
    "# boolean array\n",
    "cond = arr > 0 # cond is a boolean array\n",
    "temp = arr[cond]\n",
    "print (\"\\nElements greater than 0:\\n\", temp)"
   ]
  },
  {
   "cell_type": "markdown",
   "metadata": {},
   "source": [
    "NumPy Array Copy\n",
    "\n",
    "The copy owns the data and any changes made to the copy will not affect original array, and any changes made to the original array will not affect the copy."
   ]
  },
  {
   "cell_type": "code",
   "execution_count": 36,
   "metadata": {},
   "outputs": [
    {
     "name": "stdout",
     "output_type": "stream",
     "text": [
      "[15  2  3  4]\n",
      "[1 2 3 4]\n"
     ]
    }
   ],
   "source": [
    "arr = np.array([1,2,3,4])\n",
    "x = arr.copy() # Make a copy\n",
    "arr[0]=15  # change the original array\n",
    "print(arr)\n",
    "print(x)"
   ]
  },
  {
   "cell_type": "markdown",
   "metadata": {},
   "source": [
    "NumPy Array View\n",
    "\n",
    "The view does not own the data and any changes made to the view will affect the original array, and any changes made to the original array will affect the view."
   ]
  },
  {
   "cell_type": "code",
   "execution_count": 38,
   "metadata": {},
   "outputs": [
    {
     "name": "stdout",
     "output_type": "stream",
     "text": [
      "[15 20  3  4]\n",
      "[15 20  3  4]\n"
     ]
    }
   ],
   "source": [
    "arr = np.array([1, 2, 3, 4])\n",
    "x=arr.view() # view\n",
    "arr[0]=15 #change the original array -> affects the view\n",
    "x[1]=20 #change the view array -> affects the original array\n",
    "print(arr)\n",
    "print(x)"
   ]
  }
 ],
 "metadata": {
  "kernelspec": {
   "display_name": "Python 3.10.5 64-bit",
   "language": "python",
   "name": "python3"
  },
  "language_info": {
   "codemirror_mode": {
    "name": "ipython",
    "version": 3
   },
   "file_extension": ".py",
   "mimetype": "text/x-python",
   "name": "python",
   "nbconvert_exporter": "python",
   "pygments_lexer": "ipython3",
   "version": "3.10.5"
  },
  "orig_nbformat": 4,
  "vscode": {
   "interpreter": {
    "hash": "aee8b7b246df8f9039afb4144a1f6fd8d2ca17a180786b69acc140d282b71a49"
   }
  }
 },
 "nbformat": 4,
 "nbformat_minor": 2
}
