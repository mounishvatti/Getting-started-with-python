{
 "cells": [
  {
   "cell_type": "code",
   "execution_count": 1,
   "metadata": {},
   "outputs": [
    {
     "name": "stdout",
     "output_type": "stream",
     "text": [
      "Child executing\n",
      "Child executing\n",
      "Child executing\n",
      "Child executing\n",
      "Child executing\n",
      "Child executing\n",
      "Bye\n"
     ]
    }
   ],
   "source": [
    "from threading import*\n",
    "def new():\n",
    "    for x in range(6):\n",
    "        print(\"Child executing\")\n",
    "t1=Thread(target=new)\n",
    "t1.start()\n",
    "print(\"Bye\")\n"
   ]
  },
  {
   "cell_type": "code",
   "execution_count": 10,
   "metadata": {},
   "outputs": [
    {
     "name": "stdout",
     "output_type": "stream",
     "text": [
      "Child executing\n",
      "Child executing\n",
      "Child executing\n",
      "Child executing\n",
      "Child executing\n",
      "Child executing\n",
      "Bye\n"
     ]
    }
   ],
   "source": [
    "from threading import*\n",
    "import time\n",
    "def new():\n",
    "    for x in range(6):\n",
    "        print(\"Child executing\")\n",
    "        time.sleep(0.2)\n",
    "t1=Thread(target=new)\n",
    "t1.start()\n",
    "t1.join() #main thread will wait until child thread finishes\n",
    "print(\"Bye\")\n"
   ]
  },
  {
   "cell_type": "code",
   "execution_count": 3,
   "metadata": {},
   "outputs": [
    {
     "name": "stdout",
     "output_type": "stream",
     "text": [
      "Child executing Thread-7 (new)\n",
      "Child executing Thread-7 (new)\n",
      "Child executing Thread-7 (new)\n",
      "Child executing Thread-7 (new)\n",
      "Child executing Thread-7 (new)\n",
      "Child executing Thread-7 (new)\n",
      "Bye MainThread\n"
     ]
    },
    {
     "name": "stderr",
     "output_type": "stream",
     "text": [
      "/var/folders/1_/s3rzbyzs4kl1zp02vg49tqlr0000gn/T/ipykernel_21838/381045911.py:4: DeprecationWarning: getName() is deprecated, get the name attribute instead\n",
      "  print(\"Child executing\",current_thread().getName())\n",
      "/var/folders/1_/s3rzbyzs4kl1zp02vg49tqlr0000gn/T/ipykernel_21838/381045911.py:8: DeprecationWarning: getName() is deprecated, get the name attribute instead\n",
      "  print(\"Bye\",current_thread().getName())\n"
     ]
    }
   ],
   "source": [
    "from threading import*\n",
    "def new():\n",
    "    for x in range(6):\n",
    "        print(\"Child executing\",current_thread().getName())\n",
    "t1=Thread(target=new)\n",
    "t1.start()\n",
    "t1.join() \n",
    "print(\"Bye\",current_thread().getName())\n"
   ]
  },
  {
   "cell_type": "code",
   "execution_count": 4,
   "metadata": {},
   "outputs": [
    {
     "name": "stdout",
     "output_type": "stream",
     "text": [
      "MainThread\n",
      "Child executing Thread-8 (new)\n",
      "Child executing Thread-8 (new)\n",
      "Child executing Thread-8 (new)\n",
      "Child executing Thread-8 (new)\n",
      "Child executing Thread-8 (new)\n",
      "Child executing Thread-8 (new)\n",
      "Bye MainThread\n"
     ]
    },
    {
     "name": "stderr",
     "output_type": "stream",
     "text": [
      "/var/folders/1_/s3rzbyzs4kl1zp02vg49tqlr0000gn/T/ipykernel_2823/3296304902.py:6: DeprecationWarning: getName() is deprecated, get the name attribute instead\n",
      "  print(current_thread().getName())\n",
      "/var/folders/1_/s3rzbyzs4kl1zp02vg49tqlr0000gn/T/ipykernel_2823/3296304902.py:4: DeprecationWarning: getName() is deprecated, get the name attribute instead\n",
      "  print(\"Child executing\",current_thread().getName())\n",
      "/var/folders/1_/s3rzbyzs4kl1zp02vg49tqlr0000gn/T/ipykernel_2823/3296304902.py:9: DeprecationWarning: getName() is deprecated, get the name attribute instead\n",
      "  print(\"Bye\",current_thread().getName())\n"
     ]
    }
   ],
   "source": [
    "from threading import*\n",
    "def new():\n",
    "    for x in range(6):\n",
    "        print(\"Child executing\",current_thread().getName())\n",
    "t1=Thread(target=new)\n",
    "print(current_thread().getName())\n",
    "t1.start()\n",
    "t1.join() \n",
    "print(\"Bye\",current_thread().getName())\n"
   ]
  },
  {
   "cell_type": "code",
   "execution_count": 25,
   "metadata": {},
   "outputs": [
    {
     "name": "stdout",
     "output_type": "stream",
     "text": [
      "calculate square numbers\n",
      "Square: 1\n",
      "Square: 4\n",
      "Square: 9\n",
      "Square: 16\n",
      "calculate cube numbers\n",
      "Cube: 1\n",
      "Cube: 8\n",
      "Cube: 27\n",
      "Cube: 64\n",
      "<_MainThread(MainThread, started 4366665088)>\n"
     ]
    }
   ],
   "source": [
    "import time\n",
    "from threading import *\n",
    "\n",
    "def square(numbers):\n",
    "    print(\"calculate square numbers\")\n",
    "    for n in numbers:\n",
    "        print(\"Square:\",n*n)\n",
    "        time.sleep(0.2)\n",
    "        \n",
    "\n",
    "def cube(numbers):\n",
    "    print(\"calculate cube numbers\")\n",
    "    for n in numbers:\n",
    "        print(\"Cube:\",n*n*n)   \n",
    "        time.sleep(0.2)\n",
    "        \n",
    "a=[1,2,3,4]\n",
    "t=time.time()\n",
    "# creating thread\n",
    "t1 = Thread(target=square(a))\n",
    "t2 = Thread(target=cube(a))\n",
    "# starting thread 1\n",
    "t1.start()\n",
    "# starting thread 2\n",
    "t2.start()\n",
    "# wait until thread 1 is completely executed\n",
    "#t1.join()\n",
    "# wait until thread 2 is completely executed\n",
    "#t2.join()\n",
    " \n",
    "\n",
    "print (current_thread())\n"
   ]
  },
  {
   "cell_type": "code",
   "execution_count": 18,
   "metadata": {},
   "outputs": [
    {
     "name": "stdout",
     "output_type": "stream",
     "text": [
      "calculate square numbers\n",
      "Square: 1\n",
      "Square: 4\n",
      "Square: 9\n",
      "Square: 16\n",
      "calculate cube numbers\n",
      "Cube: 1\n",
      "Cube: 8\n",
      "Cube: 27\n",
      "Cube: 64\n",
      "done in: 161.93726921081543\n"
     ]
    },
    {
     "name": "stderr",
     "output_type": "stream",
     "text": [
      "Exception in thread Thread-25 (square):\n",
      "Traceback (most recent call last):\n",
      "  File \"/Library/Frameworks/Python.framework/Versions/3.10/lib/python3.10/threading.py\", line 1016, in _bootstrap_inner\n",
      "Exception in thread Thread-26 (cube):\n",
      "Traceback (most recent call last):\n",
      "  File \"/Library/Frameworks/Python.framework/Versions/3.10/lib/python3.10/threading.py\", line 1016, in _bootstrap_inner\n",
      "    self.run()\n",
      "  File \"/Library/Frameworks/Python.framework/Versions/3.10/lib/python3.10/threading.py\", line 953, in run\n",
      "    self.run()\n",
      "  File \"/Library/Frameworks/Python.framework/Versions/3.10/lib/python3.10/threading.py\", line 953, in run\n",
      "    self._target(*self._args, **self._kwargs)\n",
      "TypeError: cube() missing 1 required positional argument: 'numbers'\n",
      "    self._target(*self._args, **self._kwargs)\n",
      "TypeError: square() missing 1 required positional argument: 'numbers'\n"
     ]
    }
   ],
   "source": [
    "import time\n",
    "from threading import *\n",
    "\n",
    "def square(numbers):\n",
    "    print(\"calculate square numbers\")\n",
    "    for n in numbers:\n",
    "        #time.sleep(0.2)\n",
    "        print(\"Square:\",n*n)\n",
    "\n",
    "def cube(numbers):\n",
    "    print(\"calculate cube numbers\")\n",
    "    for n in numbers:\n",
    "        #time.sleep(0.2)\n",
    "        print(\"Cube:\",n*n*n)   \n",
    "        \n",
    "a=[1,2,3,4]\n",
    "# creating thread\n",
    "t1 = Thread(target=square)\n",
    "t2 = Thread(target=cube)\n",
    "# starting thread 1\n",
    "t1.start()\n",
    "# starting thread 2\n",
    "t2.start()\n",
    "# wait until thread 1 is completely executed\n",
    "#t1.join()\n",
    "# wait until thread 2 is completely executed\n",
    "#t2.join()\n",
    " \n",
    "square(a)\n",
    "cube(a)\n",
    "\n",
    "print (\"done in:\", time.time()-t)\n"
   ]
  },
  {
   "cell_type": "code",
   "execution_count": null,
   "metadata": {},
   "outputs": [],
   "source": [
    "import time\n",
    "\n",
    "def square(numbers):\n",
    "    print(\"calculate square numbers\")\n",
    "    for n in numbers:\n",
    "        time.sleep(0.2)\n",
    "        print(\"Square:\",n*n)\n",
    "\n",
    "def cube(numbers):\n",
    "    print(\"calculate cube numbers\")\n",
    "    for n in numbers:\n",
    "        time.sleep(0.2)\n",
    "        print(\"Cube:\",n*n*n)   \n",
    "        \n",
    "a=[1,2,3,4]\n",
    "t=time.time()\n",
    "square(a)\n",
    "cube(a)\n",
    "\n",
    "print (\"done in:\", time.time()-t)"
   ]
  },
  {
   "cell_type": "code",
   "execution_count": 9,
   "metadata": {},
   "outputs": [
    {
     "name": "stdout",
     "output_type": "stream",
     "text": [
      "Square: 100\n",
      "Cube: 1000\n",
      "Done!\n"
     ]
    }
   ],
   "source": [
    "import threading\n",
    "\n",
    "def print_cube(num):\n",
    "\t# function to print cube of given num\n",
    "\tprint(\"Cube: {}\" .format(num * num * num))\n",
    "\n",
    "def print_square(num):\n",
    "\t# function to print square of given num\n",
    "\tprint(\"Square: {}\" .format(num * num))\n",
    "\n",
    "if __name__ ==\"__main__\":\n",
    "\t# creating thread\n",
    "\tt1 = threading.Thread(target=print_square, args=(10,))\n",
    "\tt2 = threading.Thread(target=print_cube, args=(10,))\n",
    "\t# starting thread 1\n",
    "\tt1.start()\n",
    "\t# starting thread 2\n",
    "\tt2.start()\n",
    "\t# wait until thread 1 is completely executed\n",
    "\tt1.join()\n",
    "\t# wait until thread 2 is completely executed\n",
    "\tt2.join()\n",
    "\n",
    "\t# both threads completely executed\n",
    "\tprint(\"Done!\")\n"
   ]
  },
  {
   "cell_type": "code",
   "execution_count": 27,
   "metadata": {},
   "outputs": [
    {
     "name": "stdout",
     "output_type": "stream",
     "text": [
      "Starting: Payment\n",
      "\n",
      "Starting: Sending Email\n",
      "\n",
      "Starting: Loading Page\n",
      "\n",
      "Payment: Sat Sep  3 09:16:44 2022 5\n",
      "\n",
      "Payment: Sat Sep  3 09:16:45 2022 4\n",
      "\n",
      "Payment: Sat Sep  3 09:16:46 2022 3\n",
      "\n",
      "Payment: Sat Sep  3 09:16:47 2022 2\n",
      "\n",
      "Payment: Sat Sep  3 09:16:48 2022 1\n",
      "\n",
      "Exiting: Payment\n",
      "\n",
      "Sending Email: Sat Sep  3 09:16:49 2022 10\n",
      "Loading Page: Sat Sep  3 09:16:49 2022 3\n",
      "\n",
      "\n",
      "Sending Email: Sat Sep  3 09:16:50 2022 9\n",
      "\n",
      "Loading Page: Sat Sep  3 09:16:50 2022 2\n",
      "\n",
      "Sending Email: Sat Sep  3 09:16:51 2022 8\n",
      "\n",
      "Loading Page: Sat Sep  3 09:16:51 2022 1\n",
      "\n",
      "Exiting: Loading Page\n",
      "\n",
      "Sending Email: Sat Sep  3 09:16:52 2022 7\n",
      "\n",
      "Sending Email: Sat Sep  3 09:16:53 2022 6\n",
      "\n",
      "Sending Email: Sat Sep  3 09:16:54 2022 5\n",
      "\n",
      "Sending Email: Sat Sep  3 09:16:55 2022 4\n",
      "\n",
      "Sending Email: Sat Sep  3 09:16:56 2022 3\n",
      "\n",
      "Sending Email: Sat Sep  3 09:16:57 2022 2\n",
      "\n",
      "Sending Email: Sat Sep  3 09:16:58 2022 1\n",
      "\n",
      "Exiting: Sending Email\n",
      "\n",
      "Done main thread\n"
     ]
    }
   ],
   "source": [
    "from threading import *\n",
    "import time\n",
    "\n",
    "\n",
    "class myThread(Thread):\n",
    "    def __init__(self, threadId, name, count):\n",
    "        Thread.__init__(self)\n",
    "        self.threadId = threadId\n",
    "        self.name = name\n",
    "        self.count = count\n",
    "\n",
    "    def run(self):\n",
    "        print(\"Starting: \" + self.name + \"\\n\")\n",
    "        threadLock.acquire()\n",
    "        print_time(self.name, 1,self.count)\n",
    "        threadLock.release()\n",
    "        print(\"Exiting: \" + self.name + \"\\n\")\n",
    "\n",
    "class myThread2(Thread):\n",
    "    def __init__(self, threadId, name, count):\n",
    "        Thread.__init__(self)\n",
    "        self.threadId = threadId\n",
    "        self.name = name\n",
    "        self.count = count\n",
    "\n",
    "    def run(self):\n",
    "        print(\"Starting: \" + self.name + \"\\n\")\n",
    "        threadLock.acquire()\n",
    "        threadLock.release()\n",
    "        print_time(self.name, 1,self.count)\n",
    "        print(\"Exiting: \" + self.name + \"\\n\")\n",
    "def print_time(name, delay, count):\n",
    "    while count:\n",
    "        time.sleep(delay)\n",
    "        print (\"%s: %s %s\" % (name, time.ctime(time.time()), count) + \"\\n\")\n",
    "        count -= 1\n",
    "\n",
    "\n",
    "threadLock = Lock()\n",
    "\n",
    "thread1 = myThread(1, \"Payment\", 5)\n",
    "thread2 = myThread2(2, \"Sending Email\", 10)\n",
    "thread3 = myThread2(3, \"Loading Page\", 3)\n",
    "\n",
    "\n",
    "thread1.start()\n",
    "thread2.start()\n",
    "thread3.start()\n",
    "thread1.join()\n",
    "thread2.join()\n",
    "thread3.join()\n",
    "print(\"Done main thread\")       \n"
   ]
  }
 ],
 "metadata": {
  "kernelspec": {
   "display_name": "Python 3.10.5 64-bit",
   "language": "python",
   "name": "python3"
  },
  "language_info": {
   "codemirror_mode": {
    "name": "ipython",
    "version": 3
   },
   "file_extension": ".py",
   "mimetype": "text/x-python",
   "name": "python",
   "nbconvert_exporter": "python",
   "pygments_lexer": "ipython3",
   "version": "3.10.5"
  },
  "orig_nbformat": 4,
  "vscode": {
   "interpreter": {
    "hash": "aee8b7b246df8f9039afb4144a1f6fd8d2ca17a180786b69acc140d282b71a49"
   }
  }
 },
 "nbformat": 4,
 "nbformat_minor": 2
}
