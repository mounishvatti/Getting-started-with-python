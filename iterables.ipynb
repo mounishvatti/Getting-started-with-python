{
 "cells": [
  {
   "cell_type": "markdown",
   "metadata": {},
   "source": [
    "Python’s Itertool is a module that provides various functions that work on iterators to produce complex iterators. This module works as a fast, memory-efficient tool that is used either by themselves or in combination to form iterator algebra. "
   ]
  },
  {
   "cell_type": "code",
   "execution_count": 1,
   "metadata": {},
   "outputs": [
    {
     "name": "stdout",
     "output_type": "stream",
     "text": [
      "Result: 2 6 12\n",
      "Time taken by map function: 0.000037\n",
      "Result: 2 6 12 \n",
      "Time taken by for loop: 0.000070\n"
     ]
    }
   ],
   "source": [
    "# Python program to demonstrate\n",
    "# iterator module\n",
    "\n",
    "import operator\n",
    "import time\n",
    "\n",
    "# Defining lists\n",
    "L1 = [1, 2, 3]\n",
    "L2 = [2, 3, 4]\n",
    "\n",
    "# Starting time before map\n",
    "# function\n",
    "t1 = time.time()\n",
    "\n",
    "# Calculating result\n",
    "a, b, c = map(operator.mul, L1, L2)\n",
    "\n",
    "# Ending time after map\n",
    "# function\n",
    "t2 = time.time()\n",
    "\n",
    "# Time taken by map function\n",
    "print(\"Result:\", a, b, c)\n",
    "print(\"Time taken by map function: %.6f\" %(t2 - t1))\n",
    "\n",
    "# Starting time before naive\n",
    "# method\n",
    "t1 = time.time()\n",
    "\n",
    "# Calculating result using for loop\n",
    "print(\"Result:\", end = \" \")\n",
    "for i in range(3):\n",
    "\tprint(L1[i] * L2[i], end = \" \")\n",
    "\t\n",
    "# Ending time after naive\n",
    "# method\n",
    "t2 = time.time()\n",
    "print(\"\\nTime taken by for loop: %.6f\" %(t2 - t1))\n"
   ]
  }
 ],
 "metadata": {
  "kernelspec": {
   "display_name": "Python 3.10.5 64-bit",
   "language": "python",
   "name": "python3"
  },
  "language_info": {
   "codemirror_mode": {
    "name": "ipython",
    "version": 3
   },
   "file_extension": ".py",
   "mimetype": "text/x-python",
   "name": "python",
   "nbconvert_exporter": "python",
   "pygments_lexer": "ipython3",
   "version": "3.10.5"
  },
  "orig_nbformat": 4,
  "vscode": {
   "interpreter": {
    "hash": "aee8b7b246df8f9039afb4144a1f6fd8d2ca17a180786b69acc140d282b71a49"
   }
  }
 },
 "nbformat": 4,
 "nbformat_minor": 2
}
