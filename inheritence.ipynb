{
 "cells": [
  {
   "cell_type": "code",
   "execution_count": 1,
   "metadata": {},
   "outputs": [
    {
     "name": "stdout",
     "output_type": "stream",
     "text": [
      "Hi there!\n",
      "1,2,3,4,5\n",
      "Welcome to VS Code!\n"
     ]
    }
   ],
   "source": [
    "class a:\n",
    "    def hello(self):\n",
    "        print(\"Hi there!\")\n",
    "class b(a):\n",
    "    def hi(self):\n",
    "        print(\"1,2,3,4,5\")\n",
    "class c(b):\n",
    "    def my(self):\n",
    "        print(\"Welcome to VS Code!\")\n",
    "obj=c()\n",
    "obj.hello()\n",
    "obj.hi()\n",
    "obj.my()"
   ]
  },
  {
   "cell_type": "code",
   "execution_count": 10,
   "metadata": {},
   "outputs": [
    {
     "name": "stdout",
     "output_type": "stream",
     "text": [
      "Enter name, city & roll number: \n",
      "Student's name:  Mounish\n",
      "Student's city:  Mumbai\n",
      "Student's roll number:  20MIC0036\n",
      "Enter name, city & employee_id: \n",
      "Teacher's name:  Boominathan\n",
      "Teacher's city:  Chennai\n",
      "Employee ID:  Er34\n"
     ]
    }
   ],
   "source": [
    "class person:\n",
    "    def __init__(self,name,city):\n",
    "        self.name = name\n",
    "        self.city = city\n",
    "        \n",
    "class student(person): \n",
    "    def __init__(self,name,city,rollno):\n",
    "        super().__init__(name,city)\n",
    "        self.rollno = rollno\n",
    "        print(\"Student's name: \",name)\n",
    "        print(\"Student's city: \",city)\n",
    "        print(\"Student's roll number: \",rollno)\n",
    "        \n",
    "class teacher(person): \n",
    "    def __init__(self,name,city,employee_id):\n",
    "        super().__init__(name,city)\n",
    "        self.employee_id = employee_id\n",
    "        print(\"Teacher's name: \",name)\n",
    "        print(\"Teacher's city: \",city)\n",
    "        print(\"Employee ID: \",employee_id)\n",
    "        \n",
    "b=student(\"Mounish\",\"Mumbai\",\"20MIC0036\")\n",
    "c=teacher(\"Boominathan\",\"Chennai\",\"Er34\")\n",
    "        "
   ]
  },
  {
   "cell_type": "code",
   "execution_count": 3,
   "metadata": {},
   "outputs": [
    {
     "name": "stdout",
     "output_type": "stream",
     "text": [
      "True\n",
      "False\n",
      "False\n",
      "True\n",
      "True\n",
      "True\n",
      "True\n"
     ]
    }
   ],
   "source": [
    "#isinstance() & issubclass()\n",
    "class a: pass\n",
    "class b: pass\n",
    "class c(a): pass\n",
    "\n",
    "std = a()\n",
    "mark = b()\n",
    "\n",
    "print(isinstance(std, a))\n",
    "print(isinstance(mark, a))\n",
    "print(isinstance(std, b))\n",
    "print(isinstance(mark, b))\n",
    "\n",
    "print(issubclass(a, object))\n",
    "print(issubclass(b, object))\n",
    "print(issubclass(c,a))"
   ]
  },
  {
   "cell_type": "code",
   "execution_count": 2,
   "metadata": {},
   "outputs": [
    {
     "name": "stdout",
     "output_type": "stream",
     "text": [
      "30\n",
      "10\n",
      "10\n"
     ]
    },
    {
     "data": {
      "text/plain": [
       "10"
      ]
     },
     "execution_count": 2,
     "metadata": {},
     "output_type": "execute_result"
    }
   ],
   "source": [
    "class add:\n",
    "    def adding(self,num1,num2):\n",
    "        sum=num1+num2\n",
    "        print(sum)\n",
    "        return sum\n",
    "class subtract(add):\n",
    "    def subtracting(self,num1,num2):\n",
    "        if num1>num2:\n",
    "            diff=num1-num2\n",
    "        else: \n",
    "            diff=num2-num1\n",
    "        print(diff)\n",
    "        return diff\n",
    "obj=subtract()\n",
    "obj.adding(10,20)\n",
    "obj.subtracting(10,20)\n",
    "obj.subtracting(20,10)"
   ]
  },
  {
   "cell_type": "code",
   "execution_count": 4,
   "metadata": {},
   "outputs": [
    {
     "name": "stdout",
     "output_type": "stream",
     "text": [
      "hari\n",
      "121\n",
      "hyd\n",
      "12000\n",
      "ram\n",
      "122\n",
      "mum\n",
      "12000\n"
     ]
    }
   ],
   "source": [
    "class student:\n",
    "    fees = 10000\n",
    "    def __init__(self,name,rollno,city):\n",
    "        self.name=name\n",
    "        self.rollno=rollno \n",
    "        self.city=city\n",
    "class cse(student): \n",
    "    fees = 12000\n",
    "    def __init__(self,name,rollno,city,year):\n",
    "        self.name=name\n",
    "        self.rollno=rollno \n",
    "        self.city=city\n",
    "        self.year=year\n",
    "stu1=cse(\"hari\",121,\"hyd\",2022)\n",
    "stu2=cse(\"ram\",122,\"mum\",2022)\n",
    "\n",
    "print(stu1.name)\n",
    "print(stu1.rollno)\n",
    "print(stu1.city)\n",
    "print(stu1.fees)\n",
    "\n",
    "print(stu2.name)\n",
    "print(stu2.rollno)\n",
    "print(stu2.city)\n",
    "print(stu2.fees)\n"
   ]
  },
  {
   "cell_type": "code",
   "execution_count": 13,
   "metadata": {},
   "outputs": [
    {
     "name": "stdout",
     "output_type": "stream",
     "text": [
      "35\n",
      "11\n",
      "276\n",
      "0.5217391304347826\n"
     ]
    }
   ],
   "source": [
    "class calculator:\n",
    "    def __init__(self,num1,num2):\n",
    "        self.num1 = num1\n",
    "        self.num2 = num2\n",
    "        \n",
    "class add(calculator):\n",
    "    def __init__(self,num1,num2):\n",
    "        super().__init__(num1,num2)\n",
    "        sum=num1+num2\n",
    "        print(sum)\n",
    "        \n",
    "class subtract(calculator):\n",
    "    def __init__(self,num1,num2):\n",
    "        super().__init__(num1,num2)\n",
    "        if num1>num2:\n",
    "            diff = num1-num2\n",
    "        else: \n",
    "            diff = num2-num1\n",
    "        print(diff)\n",
    "        \n",
    "class multiply(calculator):\n",
    "    def __init__(self,num1,num2):\n",
    "        super().__init__(num1,num2)\n",
    "        product=num1*num2\n",
    "        print(product)\n",
    "        \n",
    "class divide(calculator):\n",
    "    def __init__(self,num1,num2):\n",
    "        super().__init__(num1,num2)\n",
    "        if num2!=0:\n",
    "            div=num1/num2\n",
    "            print(div)\n",
    "        else: print(\"Infinity\")\n",
    "\n",
    "a=add(12,23)\n",
    "b=subtract(12,23)\n",
    "c=multiply(12,23)\n",
    "d=divide(12,23)"
   ]
  },
  {
   "cell_type": "code",
   "execution_count": null,
   "metadata": {},
   "outputs": [],
   "source": []
  },
  {
   "cell_type": "code",
   "execution_count": 1,
   "metadata": {},
   "outputs": [
    {
     "name": "stdout",
     "output_type": "stream",
     "text": [
      "hari\n",
      "121\n",
      "hyd\n",
      "12000\n",
      "ram\n",
      "122\n",
      "mum\n",
      "12000\n"
     ]
    }
   ],
   "source": [
    "class student:\n",
    "    fees = 10000\n",
    "    def __init__(self,name,rollno,city):\n",
    "        self.name=name\n",
    "        self.rollno=rollno \n",
    "        self.city=city\n",
    "class cse(student): \n",
    "    fees = 12000\n",
    "    def __init__(self,name,rollno,city,year):\n",
    "        super().__init__(name,rollno,city)  #superclass to reduce the lines of code.\n",
    "        self.year=year\n",
    "stu1=cse(\"hari\",121,\"hyd\",2022)\n",
    "stu2=cse(\"ram\",122,\"mum\",2022)\n",
    "\n",
    "print(stu1.name)\n",
    "print(stu1.rollno)\n",
    "print(stu1.city)\n",
    "print(stu1.fees)\n",
    "\n",
    "print(stu2.name)\n",
    "print(stu2.rollno)\n",
    "print(stu2.city)\n",
    "print(stu2.fees)\n"
   ]
  },
  {
   "cell_type": "code",
   "execution_count": 2,
   "metadata": {},
   "outputs": [
    {
     "name": "stdout",
     "output_type": "stream",
     "text": [
      "------EMPLOYEE DETAILS------\n",
      "\n",
      "\n",
      "Employee Name:  Swathi\n",
      "Employee ID:  134\n",
      "Employee Salary:  10000\n",
      "Employee City:  Chennai\n",
      "\n",
      "\n",
      "Employee Name:  Raj\n",
      "Employee ID:  567\n",
      "Employee Salary:  10000\n",
      "Employee City:  Delhi\n",
      "\n",
      "\n",
      "------STUDENT DETAILS------\n",
      "\n",
      "\n",
      "Student Name:  Hari\n",
      "Roll No:  20121\n",
      "City:  Hyderabad\n",
      "Branch:  CSE\n",
      "Fees:  20000\n",
      "\n",
      "\n",
      "Student Name:  Ram\n",
      "Roll No:  20122\n",
      "City:  Mumbai\n",
      "Branch:  CSE\n",
      "Fees:  20000\n"
     ]
    }
   ],
   "source": [
    "class person:\n",
    "    def __init__(self,name,city):\n",
    "        self.name=name\n",
    "        self.city=city\n",
    "        \n",
    "class teacher(person):\n",
    "    salary = 10000\n",
    "    #print(\"Faculty of VIT\")\n",
    "    def __init__(self,name,employee_id,city):\n",
    "        super().__init__(name,city) \n",
    "        self.employee_id=employee_id\n",
    "        \n",
    "class student(person):\n",
    "    fees = 10000\n",
    "    #print(\"Student of VIT\")\n",
    "    def __init__(self,name,rollno,city):\n",
    "        super().__init__(name,city) \n",
    "        self.rollno=rollno \n",
    "\n",
    "class cse(student): \n",
    "    fees = 20000\n",
    "    branch=\"CSE\"\n",
    "    #print(\"CSE Student of VIT\")\n",
    "    def __init__(self,name,rollno,city,year):\n",
    "        super().__init__(name,rollno,city)\n",
    "        self.year=year\n",
    "    \n",
    "class mech(student):\n",
    "    fees = 15000\n",
    "    branch=\"MECHANICAL\"\n",
    "    def __init__(self,name,rollno,city,year):\n",
    "        super().__init__(name,rollno,city)\n",
    "        self.year=year\n",
    "           \n",
    "stu1=cse(\"Hari\",20121,\"Hyderabad\",2022)\n",
    "stu2=cse(\"Ram\",20122,\"Mumbai\",2022)\n",
    "emp1=teacher(\"Swathi\",134,\"Chennai\")\n",
    "emp2=teacher(\"Raj\",567,\"Delhi\")\n",
    "\n",
    "print(\"------EMPLOYEE DETAILS------\")\n",
    "print(\"\\n\")\n",
    "print(\"Employee Name: \",emp1.name)\n",
    "print(\"Employee ID: \",emp1.employee_id)\n",
    "print(\"Employee Salary: \",emp1.salary)\n",
    "print(\"Employee City: \",emp1.city)\n",
    "print(\"\\n\")\n",
    "print(\"Employee Name: \",emp2.name)\n",
    "print(\"Employee ID: \",emp2.employee_id)\n",
    "print(\"Employee Salary: \",emp2.salary)\n",
    "print(\"Employee City: \",emp2.city)\n",
    "print(\"\\n\")\n",
    "print(\"------STUDENT DETAILS------\")\n",
    "print(\"\\n\")\n",
    "print(\"Student Name: \",stu1.name)\n",
    "print(\"Roll No: \",stu1.rollno)\n",
    "print(\"City: \",stu1.city)\n",
    "print(\"Branch: \",stu1.branch)\n",
    "print(\"Fees: \",stu1.fees)\n",
    "print(\"\\n\")\n",
    "print(\"Student Name: \",stu2.name)\n",
    "print(\"Roll No: \",stu2.rollno)\n",
    "print(\"City: \",stu2.city)\n",
    "print(\"Branch: \",stu2.branch)\n",
    "print(\"Fees: \",stu2.fees)"
   ]
  },
  {
   "cell_type": "code",
   "execution_count": 3,
   "metadata": {},
   "outputs": [
    {
     "name": "stdout",
     "output_type": "stream",
     "text": [
      "Father : RAM\n",
      "Mother : SITA\n"
     ]
    }
   ],
   "source": [
    "# multiple inheritance\n",
    "\n",
    "# Base class1\n",
    "class Mother:\n",
    "\tmothername = \"\"\n",
    "\n",
    "\tdef mother(self):\n",
    "\t\tprint(self.mothername)\n",
    "\n",
    "# Base class2\n",
    "\n",
    "class Father:\n",
    "\tfathername = \"\"\n",
    "\n",
    "\tdef father(self):\n",
    "\t\tprint(self.fathername)\n",
    "\n",
    "# Derived class\n",
    "\n",
    "class Son(Mother, Father):\n",
    "\tdef parents(self):\n",
    "\t\tprint(\"Father :\", self.fathername)\n",
    "\t\tprint(\"Mother :\", self.mothername)\n",
    "\n",
    "# Driver's code\n",
    "s1 = Son()\n",
    "s1.fathername = \"RAM\"\n",
    "s1.mothername = \"SITA\"\n",
    "s1.parents()\n"
   ]
  }
 ],
 "metadata": {
  "kernelspec": {
   "display_name": "Python 3.10.5 64-bit",
   "language": "python",
   "name": "python3"
  },
  "language_info": {
   "codemirror_mode": {
    "name": "ipython",
    "version": 3
   },
   "file_extension": ".py",
   "mimetype": "text/x-python",
   "name": "python",
   "nbconvert_exporter": "python",
   "pygments_lexer": "ipython3",
   "version": "3.10.5"
  },
  "orig_nbformat": 4,
  "vscode": {
   "interpreter": {
    "hash": "aee8b7b246df8f9039afb4144a1f6fd8d2ca17a180786b69acc140d282b71a49"
   }
  }
 },
 "nbformat": 4,
 "nbformat_minor": 2
}
