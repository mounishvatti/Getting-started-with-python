{
 "cells": [
  {
   "cell_type": "markdown",
   "metadata": {},
   "source": [
    "The literal meaning of polymorphism is the condition of occurrence in different forms.\n",
    "\n",
    "Polymorphism is a very important concept in programming. It refers to the use of a single type entity (method, operator or object) to represent different types in different scenarios."
   ]
  },
  {
   "cell_type": "code",
   "execution_count": 1,
   "metadata": {},
   "outputs": [
    {
     "name": "stdout",
     "output_type": "stream",
     "text": [
      "hi\n"
     ]
    }
   ],
   "source": [
    "class X:\n",
    "    def fun1(self):\n",
    "        print(\"hi\")\n",
    "obj=X() #creating object of the class X.\n",
    "obj.fun1() #calling function (fun1) to execute the function\n"
   ]
  },
  {
   "cell_type": "code",
   "execution_count": 2,
   "metadata": {},
   "outputs": [
    {
     "name": "stdout",
     "output_type": "stream",
     "text": [
      "hello\n"
     ]
    }
   ],
   "source": [
    "#method overriding\n",
    "class X:\n",
    "    def fun1(self):\n",
    "        print(\"hi\")\n",
    "class Y(X):\n",
    "    def fun1(self):\n",
    "       print(\"hello\") #hello will be printed\n",
    "obj=Y()\n",
    "obj.fun1()\n"
   ]
  },
  {
   "cell_type": "code",
   "execution_count": 3,
   "metadata": {},
   "outputs": [
    {
     "name": "stdout",
     "output_type": "stream",
     "text": [
      "hi\n",
      "hello\n"
     ]
    }
   ],
   "source": [
    "class X:\n",
    "    def fun1(self):\n",
    "        print(\"hi\")\n",
    "class Y(X):\n",
    "    def fun1(self):\n",
    "        super().fun1() #used to access the contents in the main class also so that the method doesn't overrides.\n",
    "        print(\"hello\")\n",
    "obj=Y()\n",
    "obj.fun1()\n"
   ]
  },
  {
   "cell_type": "code",
   "execution_count": 4,
   "metadata": {},
   "outputs": [
    {
     "name": "stdout",
     "output_type": "stream",
     "text": [
      "3\n"
     ]
    }
   ],
   "source": [
    "class X:\n",
    "    def fun1(self):\n",
    "        x=1\n",
    "        y=2     #integers\n",
    "        c=x+y   #adding x and y\n",
    "        print(c)\n",
    "\n",
    "obj=X()\n",
    "obj.fun1()\n"
   ]
  },
  {
   "cell_type": "code",
   "execution_count": 5,
   "metadata": {},
   "outputs": [
    {
     "name": "stdout",
     "output_type": "stream",
     "text": [
      "12\n"
     ]
    }
   ],
   "source": [
    "class X:\n",
    "    def fun1(self):\n",
    "        x='1'\n",
    "        y='2'       #stored in the form of strings\n",
    "        c=x+y       #concatenating x and y\n",
    "        print(c)   \n",
    "\n",
    "obj=X()\n",
    "obj.fun1()\n"
   ]
  }
 ],
 "metadata": {
  "kernelspec": {
   "display_name": "Python 3.10.5 64-bit",
   "language": "python",
   "name": "python3"
  },
  "language_info": {
   "codemirror_mode": {
    "name": "ipython",
    "version": 3
   },
   "file_extension": ".py",
   "mimetype": "text/x-python",
   "name": "python",
   "nbconvert_exporter": "python",
   "pygments_lexer": "ipython3",
   "version": "3.10.5"
  },
  "orig_nbformat": 4,
  "vscode": {
   "interpreter": {
    "hash": "aee8b7b246df8f9039afb4144a1f6fd8d2ca17a180786b69acc140d282b71a49"
   }
  }
 },
 "nbformat": 4,
 "nbformat_minor": 2
}
