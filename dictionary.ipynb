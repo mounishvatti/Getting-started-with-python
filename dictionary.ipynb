{
 "cells": [
  {
   "cell_type": "markdown",
   "metadata": {},
   "source": [
    "clear()\t        Removes all the elements from the dictionary\n",
    "copy()\t        Returns a copy of the dictionary\n",
    "fromkeys()\t    Returns a dictionary with the specified keys and value\n",
    "get()\t        Returns the value of the specified key\n",
    "items()\t        Returns a list containing a tuple for each key value pair\n",
    "keys()\t        Returns a list containing the dictionary's keys\n",
    "pop()\t        Removes the element with the specified key\n",
    "popitem()\t    Removes the last inserted key-value pair\n",
    "setdefault()\tReturns the value of the specified key. If the key does not exist: insert the key, with the specified value\n",
    "update()\t    Updates the dictionary with the specified key-value pairs\n",
    "values()\t    Returns a list of all the values in the dictionary\n",
    "\n",
    "List is a collection which is ordered and changeable. Allows duplicate members.\n",
    "Tuple is a collection which is ordered and unchangeable. Allows duplicate members.\n",
    "Set is a collection which is unordered, unchangeable*, and unindexed. No duplicate members.\n",
    "Dictionary is a collection which is ordered** and changeable. No duplicate members.\n"
   ]
  },
  {
   "cell_type": "code",
   "execution_count": null,
   "metadata": {},
   "outputs": [],
   "source": [
    "# how to define a dictionary\n",
    "\n",
    "car = {\n",
    "  \"brand\": \"Ford\",\n",
    "  \"model\": \"Mustang\",\n",
    "  \"year\": 1964\n",
    "}"
   ]
  },
  {
   "cell_type": "code",
   "execution_count": 11,
   "metadata": {},
   "outputs": [
    {
     "name": "stdout",
     "output_type": "stream",
     "text": [
      "Mustang\n"
     ]
    }
   ],
   "source": [
    "# accessing items in a dictionary\n",
    "\n",
    "car = {\n",
    "  \"brand\": \"Ford\",\n",
    "  \"model\": \"Mustang\",\n",
    "  \"year\": 1964\n",
    "}\n",
    "print(car.get(\"model\")) # or car[\"model\"]\n"
   ]
  },
  {
   "cell_type": "code",
   "execution_count": null,
   "metadata": {},
   "outputs": [],
   "source": [
    "# to find the presence of  a key in a dictionary\n",
    "\n",
    "mydict = {\"a\":25,\"b\":70,\"c\":100}\n",
    "keyToFind = input(\"Enter a key to find: \")\n",
    "\n",
    "if (keyToFind in mydict.key()):\n",
    "    print(\"The given key exists in the dictionary\")\n",
    "\n",
    "else: print(\"The given key does not exist in the dictionary.\")"
   ]
  },
  {
   "cell_type": "code",
   "execution_count": 14,
   "metadata": {},
   "outputs": [
    {
     "name": "stdout",
     "output_type": "stream",
     "text": [
      "[25, 70, 100]\n",
      "195\n"
     ]
    }
   ],
   "source": [
    "# to find the sum of values in the dictionary \n",
    "\n",
    "mydict = {\"a\":25,\"b\":70,\"c\":100}\n",
    "sum=0\n",
    "values=[]\n",
    "keys=[]\n",
    "keys=list(mydict.keys()) # list of keys\n",
    "values=list(mydict.values()) # list of values\n",
    "print(keys) #prints the key of the dictionary\n",
    "print(values) #prints the values of the dictionary\n",
    "for i in range(0,len(values)):\n",
    "    sum=sum+values[i]\n",
    "print(\"Sum: \",sum)\n"
   ]
  },
  {
   "cell_type": "code",
   "execution_count": 29,
   "metadata": {},
   "outputs": [
    {
     "name": "stdout",
     "output_type": "stream",
     "text": [
      "[10, 70, 75]\n",
      "['a', 'b', 'c']\n",
      "[('a', 75), ('b', 70), ('c', 10)]\n"
     ]
    }
   ],
   "source": [
    "# to sort the dictionary according to values \n",
    "mydict = {\"a\":75,\"b\":70,\"c\":10}\n",
    "print(sorted(mydict.values())) #prints the sorted dictionary based on values\n",
    "print(sorted(mydict.keys())) #prints the sorted dictionary based on keys\n",
    "print(sorted(mydict.items()))\n"
   ]
  },
  {
   "cell_type": "code",
   "execution_count": 31,
   "metadata": {},
   "outputs": [
    {
     "name": "stdout",
     "output_type": "stream",
     "text": [
      "{'b', 'a', 'c'} {10, 75, 70}\n"
     ]
    }
   ],
   "source": [
    "# dictionary to sets\n",
    "\n",
    "mydict = {\"a\":75,\"b\":70,\"c\":10}\n",
    "myset1 = set(mydict.keys())\n",
    "myset2 = set(mydict.values())\n",
    "print(myset1,myset2)"
   ]
  },
  {
   "cell_type": "code",
   "execution_count": 3,
   "metadata": {},
   "outputs": [
    {
     "name": "stdout",
     "output_type": "stream",
     "text": [
      "{'brand': 'Audi', 'model': 'R8', 'year': 2020}\n",
      "Audi\n"
     ]
    }
   ],
   "source": [
    "# to change item values\n",
    "\n",
    "car = {\n",
    "  \"brand\": \"Ford\",\n",
    "  \"model\": \"Mustang\",\n",
    "  \"year\": 1964\n",
    "}\n",
    "car[\"year\"] = 2020\n",
    "car[\"brand\"] = \"Audi\"\n",
    "car[\"model\"] = \"R8\"\n",
    "print(car)"
   ]
  },
  {
   "cell_type": "code",
   "execution_count": 4,
   "metadata": {},
   "outputs": [
    {
     "name": "stdout",
     "output_type": "stream",
     "text": [
      "{'brand': 'Ford', 'model': 'Mustang', 'year': 1964, 'color': 'red', 'price': 565000}\n"
     ]
    }
   ],
   "source": [
    "# to add new items\n",
    "# Adding an item to the dictionary is done by using a new index key and assigning a value to it:\n",
    "\n",
    "car = {\n",
    "  \"brand\": \"Ford\",\n",
    "  \"model\": \"Mustang\",\n",
    "  \"year\": 1964\n",
    "}\n",
    "car[\"color\"] = \"red\"\n",
    "car[\"price\"] = 565000\n",
    "\n",
    "print(car)"
   ]
  },
  {
   "cell_type": "code",
   "execution_count": 5,
   "metadata": {},
   "outputs": [
    {
     "name": "stdout",
     "output_type": "stream",
     "text": [
      "{'brand': 'Ford', 'year': 1964}\n"
     ]
    }
   ],
   "source": [
    "# removing items from the dictionary\n",
    "\n",
    "car = {\n",
    "  \"brand\": \"Ford\",\n",
    "  \"model\": \"Mustang\",\n",
    "  \"year\": 1964\n",
    "}\n",
    "car.pop(\"model\") # The pop() method removes the item with the specified key name:\n",
    "# The popitem() method removes the last inserted item \n",
    "print(car)"
   ]
  },
  {
   "cell_type": "code",
   "execution_count": 6,
   "metadata": {},
   "outputs": [
    {
     "name": "stdout",
     "output_type": "stream",
     "text": [
      "{'brand': 'Ford', 'year': 1964}\n"
     ]
    }
   ],
   "source": [
    "car = {\n",
    "  \"brand\": \"Ford\",\n",
    "  \"model\": \"Mustang\",\n",
    "  \"year\": 1964\n",
    "}\n",
    "del car[\"model\"] # The del keyword removes the item with the specified key name:\n",
    "print(car)"
   ]
  },
  {
   "cell_type": "code",
   "execution_count": 8,
   "metadata": {},
   "outputs": [
    {
     "ename": "NameError",
     "evalue": "name 'car' is not defined",
     "output_type": "error",
     "traceback": [
      "\u001b[0;31m---------------------------------------------------------------------------\u001b[0m",
      "\u001b[0;31mNameError\u001b[0m                                 Traceback (most recent call last)",
      "\u001b[1;32m/Users/mounishvatti/Documents/coding/python/dictionary.ipynb Cell 8\u001b[0m in \u001b[0;36m<cell line: 7>\u001b[0;34m()\u001b[0m\n\u001b[1;32m      <a href='vscode-notebook-cell:/Users/mounishvatti/Documents/coding/python/dictionary.ipynb#X13sZmlsZQ%3D%3D?line=0'>1</a>\u001b[0m car \u001b[39m=\u001b[39m {\n\u001b[1;32m      <a href='vscode-notebook-cell:/Users/mounishvatti/Documents/coding/python/dictionary.ipynb#X13sZmlsZQ%3D%3D?line=1'>2</a>\u001b[0m   \u001b[39m\"\u001b[39m\u001b[39mbrand\u001b[39m\u001b[39m\"\u001b[39m: \u001b[39m\"\u001b[39m\u001b[39mFord\u001b[39m\u001b[39m\"\u001b[39m,\n\u001b[1;32m      <a href='vscode-notebook-cell:/Users/mounishvatti/Documents/coding/python/dictionary.ipynb#X13sZmlsZQ%3D%3D?line=2'>3</a>\u001b[0m   \u001b[39m\"\u001b[39m\u001b[39mmodel\u001b[39m\u001b[39m\"\u001b[39m: \u001b[39m\"\u001b[39m\u001b[39mMustang\u001b[39m\u001b[39m\"\u001b[39m,\n\u001b[1;32m      <a href='vscode-notebook-cell:/Users/mounishvatti/Documents/coding/python/dictionary.ipynb#X13sZmlsZQ%3D%3D?line=3'>4</a>\u001b[0m   \u001b[39m\"\u001b[39m\u001b[39myear\u001b[39m\u001b[39m\"\u001b[39m: \u001b[39m1964\u001b[39m\n\u001b[1;32m      <a href='vscode-notebook-cell:/Users/mounishvatti/Documents/coding/python/dictionary.ipynb#X13sZmlsZQ%3D%3D?line=4'>5</a>\u001b[0m }\n\u001b[1;32m      <a href='vscode-notebook-cell:/Users/mounishvatti/Documents/coding/python/dictionary.ipynb#X13sZmlsZQ%3D%3D?line=5'>6</a>\u001b[0m \u001b[39mdel\u001b[39;00m car \u001b[39m# The del keyword can also wipe out the entire dictionary\u001b[39;00m\n\u001b[0;32m----> <a href='vscode-notebook-cell:/Users/mounishvatti/Documents/coding/python/dictionary.ipynb#X13sZmlsZQ%3D%3D?line=6'>7</a>\u001b[0m \u001b[39mprint\u001b[39m(car)\n",
      "\u001b[0;31mNameError\u001b[0m: name 'car' is not defined"
     ]
    }
   ],
   "source": [
    "car = {\n",
    "  \"brand\": \"Ford\",\n",
    "  \"model\": \"Mustang\",\n",
    "  \"year\": 1964\n",
    "}\n",
    "del car # The del keyword can also wipe out the entire dictionary\n",
    "print(car) # gives error because the dictionary doesn't exist."
   ]
  },
  {
   "cell_type": "code",
   "execution_count": 7,
   "metadata": {},
   "outputs": [
    {
     "name": "stdout",
     "output_type": "stream",
     "text": [
      "{}\n"
     ]
    }
   ],
   "source": [
    "# The clear() method empties the dictionary:\n",
    "car = {\n",
    "  \"brand\": \"Ford\",\n",
    "  \"model\": \"Mustang\",\n",
    "  \"year\": 1964\n",
    "}\n",
    "car.clear()\n",
    "print(car)"
   ]
  },
  {
   "cell_type": "code",
   "execution_count": 10,
   "metadata": {},
   "outputs": [
    {
     "name": "stdout",
     "output_type": "stream",
     "text": [
      "Ford\n",
      "Mustang\n",
      "1964\n"
     ]
    }
   ],
   "source": [
    "car = {\n",
    "  \"brand\": \"Ford\",\n",
    "  \"model\": \"Mustang\",\n",
    "  \"year\": 1964\n",
    "}\n",
    "for x in car: \n",
    "    print(car[x]) # prints values in the dictionary\n",
    "    \n",
    "    # or\n",
    "    \n",
    "for x in car.value():\n",
    "    print(x)"
   ]
  },
  {
   "cell_type": "code",
   "execution_count": 13,
   "metadata": {},
   "outputs": [
    {
     "name": "stdout",
     "output_type": "stream",
     "text": [
      "{'name': 'Emil', 'year': 2004}\n",
      "{'name': 'Tobias', 'year': 2007}\n",
      "{'name': 'Linus', 'year': 2011}\n",
      "{'child1': {'name': 'Emil', 'year': 2004}, 'child2': {'name': 'Tobias', 'year': 2007}, 'child3': {'name': 'Linus', 'year': 2011}}\n"
     ]
    }
   ],
   "source": [
    "# nested dictionaries \n",
    "\n",
    "child1 = {\n",
    "  \"name\" : \"Emil\",\n",
    "  \"year\" : 2004\n",
    "}\n",
    "child2 = {\n",
    "  \"name\" : \"Tobias\",\n",
    "  \"year\" : 2007\n",
    "}\n",
    "child3 = {\n",
    "  \"name\" : \"Linus\",\n",
    "  \"year\" : 2011\n",
    "}\n",
    "\n",
    "myfamily = {\n",
    "  \"child1\" : child1,\n",
    "  \"child2\" : child2,\n",
    "  \"child3\" : child3\n",
    "}\n",
    "print(child1)\n",
    "print(child2)\n",
    "print(child3)\n",
    "print(myfamily)"
   ]
  }
 ],
 "metadata": {
  "kernelspec": {
   "display_name": "Python 3.10.5 64-bit",
   "language": "python",
   "name": "python3"
  },
  "language_info": {
   "codemirror_mode": {
    "name": "ipython",
    "version": 3
   },
   "file_extension": ".py",
   "mimetype": "text/x-python",
   "name": "python",
   "nbconvert_exporter": "python",
   "pygments_lexer": "ipython3",
   "version": "3.10.5"
  },
  "orig_nbformat": 4,
  "vscode": {
   "interpreter": {
    "hash": "aee8b7b246df8f9039afb4144a1f6fd8d2ca17a180786b69acc140d282b71a49"
   }
  }
 },
 "nbformat": 4,
 "nbformat_minor": 2
}
